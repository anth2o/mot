{
 "cells": [
  {
   "cell_type": "markdown",
   "metadata": {
    "colab_type": "text",
    "id": "SUo-P6BNJ5ES"
   },
   "source": [
    "# Launch object detection *training*\n",
    "\n",
    "## Installation\n",
    "\n",
    "You should select a runtime with GPU first: (Runtime -> Change Runtime Type = GPU)"
   ]
  },
  {
   "cell_type": "code",
   "execution_count": null,
   "metadata": {},
   "outputs": [],
   "source": [
    "%tensorflow_version 1.x"
   ]
  },
  {
   "cell_type": "code",
   "execution_count": 0,
   "metadata": {
    "colab": {},
    "colab_type": "code",
    "id": "mo3EiovnFvye"
   },
   "outputs": [],
   "source": [
    "!apt-get install libsm6 libxext6 libxrender-dev libcap-dev ffmpeg\n",
    "!pip install --upgrade git+https://github.com/surfriderfoundationeurope/mot.git"
   ]
  },
  {
   "cell_type": "markdown",
   "metadata": {
    "colab_type": "text",
    "id": "oe_tvYuwNult"
   },
   "source": [
    "## Training"
   ]
  },
  {
   "cell_type": "markdown",
   "metadata": {
    "colab_type": "text",
    "id": "YgpwxyWZPQvu"
   },
   "source": [
    "### Downloading dataset"
   ]
  },
  {
   "cell_type": "code",
   "execution_count": 0,
   "metadata": {
    "colab": {},
    "colab_type": "code",
    "id": "hQbnsrtDPQGh"
   },
   "outputs": [],
   "source": [
    "import wget\n",
    "from zipfile import ZipFile\n",
    "\n",
    "wget.download(\"http://files.heuritech.com/raw_files/dataset_surfrider_cleaned.zip\", \".\")\n",
    "\n",
    "with ZipFile('dataset_surfrider_cleaned.zip', 'r') as zipObj:\n",
    "     zipObj.extractall()"
   ]
  },
  {
   "cell_type": "markdown",
   "metadata": {
    "colab_type": "text",
    "id": "zcZLBxJz0Qu9"
   },
   "source": [
    "### Download pretrained weights on COCO"
   ]
  },
  {
   "cell_type": "code",
   "execution_count": 0,
   "metadata": {
    "colab": {},
    "colab_type": "code",
    "id": "tSQahaeC0T_d"
   },
   "outputs": [],
   "source": [
    "wget.download(\"http://models.tensorpack.com/FasterRCNN/COCO-MaskRCNN-R50FPN2x.npz\", \".\")"
   ]
  },
  {
   "cell_type": "markdown",
   "metadata": {
    "colab_type": "text",
    "id": "rR-D8zghz9r4"
   },
   "source": [
    "### Launch the training\n",
    "\n",
    "See this [file](https://github.com/surfriderfoundationeurope/mot/blob/master/src/mot/object_detection/README.md) to choose the architecture you want and the according pre trained weights. The weights downloaded above correspond to ResNet50-FPN with 2X scheduling.  \n",
    "Since we are not interested in segmentation, we set MODE_MASK=False. Also, because the dataset is pretty small, we don't need to train the network for a lot of steps. We decrease the learning rate at steps (250,500,750) * 8 GPUs, correspoding to the steps (2000, 4000, 6000)."
   ]
  },
  {
   "cell_type": "code",
   "execution_count": 0,
   "metadata": {
    "colab": {},
    "colab_type": "code",
    "id": "PvNO6o9Yz8DS"
   },
   "outputs": [],
   "source": [
    "!python3 -m mot.object_detection.train --load COCO-MaskRCNN-R50FPN2x.npz --logdir resnet50_fpn --config DATA.BASEDIR=dataset_surfrider_cleaned MODE_MASK=False TRAIN.LR_SCHEDULE=250,500,750"
   ]
  },
  {
   "cell_type": "markdown",
   "metadata": {
    "colab_type": "text",
    "id": "DgDngrdMDsoR"
   },
   "source": [
    "### Visualize predictions"
   ]
  },
  {
   "cell_type": "code",
   "execution_count": 0,
   "metadata": {
    "colab": {},
    "colab_type": "code",
    "id": "GEXZ6r18FrzY"
   },
   "outputs": [],
   "source": [
    "!mkdir plastic_trained_resnet50_fpn"
   ]
  },
  {
   "cell_type": "code",
   "execution_count": 0,
   "metadata": {
    "colab": {},
    "colab_type": "code",
    "id": "YYdv-q_IEBaR"
   },
   "outputs": [],
   "source": [
    "wget.download(\"https://files.heuritech.com/raw_files/surfrider/resnet50_fpn/model-6000.index\", \"plastic_trained_resnet50_fpn\")\n",
    "wget.download(\"https://files.heuritech.com/raw_files/surfrider/resnet50_fpn/model-6000.data-00000-of-00001\", \"plastic_trained_resnet50_fpn\")"
   ]
  },
  {
   "cell_type": "code",
   "execution_count": 0,
   "metadata": {
    "colab": {},
    "colab_type": "code",
    "id": "QM0eCcdTD8L8"
   },
   "outputs": [],
   "source": [
    "!python3 -m mot.object_detection.predict --load plastic_trained_resnet50_fpn/model-6000 --predict dataset_surfrider_cleaned/Images_md5/9ddc58812851ad643114930524601f10 --config DATA.BASEDIR=dataset_surfrider_cleaned MODE_MASK=False"
   ]
  },
  {
   "cell_type": "code",
   "execution_count": 0,
   "metadata": {
    "colab": {},
    "colab_type": "code",
    "id": "Bs-QVy8KG-36"
   },
   "outputs": [],
   "source": [
    "from IPython.display import Image\n",
    "Image('output.png')"
   ]
  },
  {
   "cell_type": "code",
   "execution_count": 0,
   "metadata": {
    "colab": {},
    "colab_type": "code",
    "id": "LyGKs4uRahRI"
   },
   "outputs": [],
   "source": []
  }
 ],
 "metadata": {
  "accelerator": "GPU",
  "colab": {
   "collapsed_sections": [],
   "name": "training_surfrider.ipynb",
   "provenance": [],
   "toc_visible": true
  },
  "kernelspec": {
   "display_name": "Python 3",
   "language": "python",
   "name": "python3"
  },
  "language_info": {
   "codemirror_mode": {
    "name": "ipython",
    "version": 3
   },
   "file_extension": ".py",
   "mimetype": "text/x-python",
   "name": "python",
   "nbconvert_exporter": "python",
   "pygments_lexer": "ipython3",
   "version": "3.6.9"
  }
 },
 "nbformat": 4,
 "nbformat_minor": 1
}
